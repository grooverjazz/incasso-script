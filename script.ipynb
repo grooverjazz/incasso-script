{
 "cells": [
  {
   "cell_type": "markdown",
   "metadata": {},
   "source": [
    "# (Dependencies installeren)\n",
    "Dit script maakt gebruik van `openpyxl` en `pycel`.  \n",
    "Zorg ervoor dat je ze geinstalleerd hebt, anders gaat 'ie zeiken!"
   ]
  },
  {
   "cell_type": "code",
   "execution_count": null,
   "metadata": {},
   "outputs": [],
   "source": [
    "## (DEPENDENCIES INSTALLEREN)\n",
    "\n",
    "%pip install openpyxl\n",
    "%pip install pycel"
   ]
  },
  {
   "cell_type": "markdown",
   "metadata": {},
   "source": [
    "# Importeren en parameters\n",
    "\n",
    "Importeert alle benodigde _\"dependencies\"_.  \n",
    "Hier specificeer je hoe je ledenadmin-bestand heet, en hoe je je export wilt noemen."
   ]
  },
  {
   "cell_type": "code",
   "execution_count": null,
   "metadata": {},
   "outputs": [],
   "source": [
    "## IMPORTEREN EN PARAMETERS\n",
    "\n",
    "# Zorgt ervoor dat we met CSV kunnen werken.\n",
    "import csv\n",
    "\n",
    "# Zorgt ervoor dat we alles kunnen importeren en samenvoegen.\n",
    "# (zie 'hulpjes.py')\n",
    "import hulpjes\n",
    "\n",
    "# Zorgt ervoor dat we de datum in de bestandsnaam kunnen zetten.\n",
    "from datetime import datetime\n",
    "\n",
    "# Het ledenadmin-bestand en de uiteindelijke output-bestand.\n",
    "LEDENADMIN_FILE = \"leden.csv\"\n",
    "OUTPUT_FILE = \"Incasso Juli.csv\"\n",
    "\n",
    "# De uiteindelijke namen van de output-lidvelden in Conscribo.\n",
    "FIELD_TOTAL = \"Incasso Juli Totaal\"\n",
    "FIELD_DESCRIPTION = \"Incasso Juli Beschrijving\"\n",
    "\n",
    "\n",
    "# Print\n",
    "print(\"Importeren en parameters gelukt!\")"
   ]
  },
  {
   "cell_type": "markdown",
   "metadata": {},
   "source": [
    "# Ledenadmin inladen\n",
    "Laadt de leden vanuit *leden.csv* (of hoe je 'm dan ook gedefineerd heb in `LEDENADMIN_FILE`)."
   ]
  },
  {
   "cell_type": "code",
   "execution_count": null,
   "metadata": {},
   "outputs": [],
   "source": [
    "## LEDENADMIN INLADEN\n",
    "\n",
    "# Laad CSV\n",
    "(ledenadmin_members, ledenadmin_fields) = hulpjes.import_csv(LEDENADMIN_FILE)\n",
    "\n",
    "# ledenadmin_members is nu een dict van dicts in de vorm\n",
    "# { *lid-id*: { \"id\": ..., \"naam\": ... }, ... }\n",
    "# ledenadmin_fields is [\"id\", \"naam\"]\n",
    "\n",
    "# Voeg 'onbekend' lid toe\n",
    "ledenadmin_members[\"-1\"] = { \"id\": \"-1\", \"naam\": \"**ONBEKENDE LEDEN**\" }\n",
    "\n",
    "\n",
    "# Print\n",
    "print(\"Importeren vanuit ledenadmin gelukt!\")\n",
    "print(f\"({len(ledenadmin_members)} leden geimporteerd)\")"
   ]
  },
  {
   "cell_type": "markdown",
   "metadata": {},
   "source": [
    "# Lijsten toevoegen\n",
    "Voegt alle lijsten in de map `1_lists/` samen."
   ]
  },
  {
   "cell_type": "code",
   "execution_count": null,
   "metadata": {},
   "outputs": [],
   "source": [
    "## LIJSTEN TOEVOEGEN\n",
    "\n",
    "# Stel de ledenadmin in bij hulpjes.py\n",
    "hulpjes.set_ledenadmin(ledenadmin_members, ledenadmin_fields)\n",
    "\n",
    "# Voeg alle incassobestanden samen\n",
    "(incasso_members, incasso_fields) = hulpjes.merge_directory(\"1_lists\", FIELD_TOTAL, FIELD_DESCRIPTION)\n",
    "\n",
    "\n",
    "# Print\n",
    "print(\"Lijsten samenvoegen gelukt!\")"
   ]
  },
  {
   "cell_type": "markdown",
   "metadata": {},
   "source": [
    "# Export\n",
    "Exporteert de incasso naar de map `4_output/`."
   ]
  },
  {
   "cell_type": "code",
   "execution_count": null,
   "metadata": {},
   "outputs": [],
   "source": [
    "## EXPORT\n",
    "\n",
    "# Maak een naam voor het output-bestand\n",
    "now: datetime = datetime.now()\n",
    "datetime_string: str = now.strftime(\"[%Y-%m-%d %H_%M_%S]\")\n",
    "output_filename: str = \"4_output/\" + datetime_string + \" \" + OUTPUT_FILE\n",
    "\n",
    "unknown_member = incasso_members.pop(\"-1\")\n",
    "incasso = [unknown_member] + list(incasso_members.values())\n",
    "\n",
    "# Open het output-bestand\n",
    "with open(output_filename, 'w', encoding=\"utf-8-sig\", newline='') as output_file:\n",
    "    writer = csv.DictWriter(output_file, delimiter=\";\", fieldnames=incasso_fields)\n",
    "\n",
    "    # Schrijf alle export-gegevens naar het output-bestand\n",
    "    writer.writeheader()\n",
    "    writer.writerows(incasso)\n",
    "\n",
    "\n",
    "# Print\n",
    "print(\"Export gelukt!\")\n",
    "print(f\"Geëxporteerd naar {output_filename}\")"
   ]
  }
 ],
 "metadata": {
  "kernelspec": {
   "display_name": "Python 3",
   "language": "python",
   "name": "python3"
  },
  "language_info": {
   "codemirror_mode": {
    "name": "ipython",
    "version": 3
   },
   "file_extension": ".py",
   "mimetype": "text/x-python",
   "name": "python",
   "nbconvert_exporter": "python",
   "pygments_lexer": "ipython3",
   "version": "3.12.6"
  }
 },
 "nbformat": 4,
 "nbformat_minor": 2
}
